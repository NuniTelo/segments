{
 "cells": [
  {
   "cell_type": "code",
   "execution_count": 7,
   "metadata": {},
   "outputs": [],
   "source": [
    "import xml.etree.ElementTree as ET"
   ]
  },
  {
   "cell_type": "code",
   "execution_count": 8,
   "metadata": {},
   "outputs": [],
   "source": [
    "node_list_id = []    #list where we will save segment id\n",
    "node_list_lat = []   #here se save latitude\n",
    "node_list_lon = []   #here se save longtitude"
   ]
  },
  {
   "cell_type": "code",
   "execution_count": 9,
   "metadata": {},
   "outputs": [],
   "source": [
    "tree = ET.parse('map.xml')   #we create the tree and we take map.xml as a parameter\n",
    "root = tree.getroot()        #we create the root here"
   ]
  },
  {
   "cell_type": "code",
   "execution_count": 11,
   "metadata": {},
   "outputs": [],
   "source": [
    "#step where we will search for all 'nodes' , and save them in lists\n",
    "for node in root.findall('node'):\n",
    "        node_list_id.append(node.attrib['id'])\n",
    "        node_list_lon.append(node.attrib['lat'])\n",
    "        node_list_lat.append(node.attrib['lon'])"
   ]
  },
  {
   "cell_type": "code",
   "execution_count": 17,
   "metadata": {},
   "outputs": [],
   "source": [
    "#lists where we we save all our data , we split all our nodes for every way posible\n",
    "nd_list = []           #this is the reference to node segment, all inside <nd>\n",
    "nd_parent_list = []    #this will save all the parent id ..segments id.\n",
    "list_of_nd_list = []   #this will save to a list every list\n",
    "\n",
    "#pasi i kemi ruajtur qe te gjitha kerkojme per way\n",
    "for way in root.iter('way'):\n",
    "    nd_parent_list.append(way.attrib['id'])\n",
    "    for nd in way.iter('nd'):\n",
    "        #we take the reference from the 'ref' attribute\n",
    "        ref = nd.attrib['ref']\n",
    "    \n",
    "        #append to list\n",
    "        nd_list.append(ref)\n",
    "           \n",
    "    list_of_nd_list.append(nd_list[:])    #here we will save all the segments where nodes will connect\n",
    "    nd_list.clear()  #here we clear the list\n",
    "\n",
    "#print all the lists of segments\n",
    "#print(list_of_nd_list)"
   ]
  },
  {
   "cell_type": "code",
   "execution_count": 13,
   "metadata": {},
   "outputs": [
    {
     "name": "stdout",
     "output_type": "stream",
     "text": [
      "[[19.8194863, 41.3253559, 19.8194245, 41.3255757, 19.8194795, 41.3255844, 19.8193775, 41.3259477, 19.819847, 41.3260221, 19.8200108, 41.325439, 19.8194863, 41.3253559]]\n"
     ]
    }
   ],
   "source": [
    "list_of_coordinates = []\n",
    "list_of_list_of_coordinates = []\n",
    "list_two_points = []\n",
    "for data_access in list_of_nd_list:\n",
    "    for x in data_access:\n",
    "        if x in node_list_id:\n",
    "            #we take the postions and we convert them to float\n",
    "            position = node_list_id.index(x)\n",
    "            lat_point = node_list_lat[position]\n",
    "            lon_point = node_list_lon[position]\n",
    "            #to float\n",
    "            lat_float_point = float(lat_point)\n",
    "            lon_float_point = float(lon_point)\n",
    "            #add to a list that will save a list with two coordinates\n",
    "            list_of_coordinates.append(lat_float_point)\n",
    "            list_of_coordinates.append(lon_float_point)\n",
    "    #we append this list of lists to another list        \n",
    "    list_two_points.append(list_of_coordinates[:])\n",
    "    list_of_coordinates.clear()\n",
    "    \n",
    "    #print(list_two_points)\n",
    "    list_of_list_of_coordinates.append(list_two_points[:])\n",
    "    list_two_points.clear()\n",
    "    \n",
    "print(list_of_list_of_coordinates[4])"
   ]
  },
  {
   "cell_type": "code",
   "execution_count": 14,
   "metadata": {
    "scrolled": true
   },
   "outputs": [
    {
     "data": {
      "text/plain": [
       "[[19.8192642, 41.3241457],\n",
       " [19.8192225, 41.3241256],\n",
       " [19.8192582, 41.3240616],\n",
       " [19.8175721, 41.3237968],\n",
       " [19.8170922, 41.3255289],\n",
       " [19.8187829, 41.3257931],\n",
       " [19.818873, 41.3254682],\n",
       " [19.8189444, 41.3254793],\n",
       " [19.8190284, 41.3251761],\n",
       " [19.8190796, 41.3249916],\n",
       " [19.8190319, 41.3249842],\n",
       " [19.8192642, 41.3241457]]"
      ]
     },
     "execution_count": 14,
     "metadata": {},
     "output_type": "execute_result"
    }
   ],
   "source": [
    "#create chunks for the list\n",
    "def chunks(l, n):\n",
    "    # For item i in a range that is a length of l,\n",
    "    for i in range(0, len(l), n):\n",
    "        # Create an index range for l of n items:\n",
    "        yield l[i:i+n]\n",
    "#here we will save all of our segments\n",
    "data_list = []        \n",
    "#for loop to split all the coordinates in chunks\n",
    "for data in list_of_list_of_coordinates:\n",
    "    for data_group in data:\n",
    "        #call the function so we can split\n",
    "        data_list.append(list(chunks(data_group, 2)))\n",
    "        \n",
    "#here we have the final data\n",
    "data_list[5]"
   ]
  },
  {
   "cell_type": "code",
   "execution_count": null,
   "metadata": {},
   "outputs": [],
   "source": []
  }
 ],
 "metadata": {
  "kernelspec": {
   "display_name": "Python 3",
   "language": "python",
   "name": "python3"
  },
  "language_info": {
   "codemirror_mode": {
    "name": "ipython",
    "version": 3
   },
   "file_extension": ".py",
   "mimetype": "text/x-python",
   "name": "python",
   "nbconvert_exporter": "python",
   "pygments_lexer": "ipython3",
   "version": "3.5.2"
  }
 },
 "nbformat": 4,
 "nbformat_minor": 2
}
